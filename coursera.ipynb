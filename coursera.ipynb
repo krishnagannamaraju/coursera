{
  "nbformat": 4,
  "nbformat_minor": 0,
  "metadata": {
    "colab": {
      "provenance": []
    },
    "kernelspec": {
      "name": "python3",
      "display_name": "Python 3"
    },
    "language_info": {
      "name": "python"
    }
  },
  "cells": [
    {
      "cell_type": "code",
      "source": [
        "COURSERA ASSIGNMENT_IBM"
      ],
      "metadata": {
        "id": "xFzHHV7Udv7Z"
      },
      "execution_count": null,
      "outputs": []
    },
    {
      "cell_type": "code",
      "source": [
        "# DATA SCIENCE INTRODUCTION PROJECT"
      ],
      "metadata": {
        "id": "i625wxVtdzR1"
      },
      "execution_count": null,
      "outputs": []
    },
    {
      "cell_type": "code",
      "source": [
        "#Python\n",
        "R\n",
        "SQL\n",
        "Java\n",
        "Julia\n",
        "Scala\n",
        "C/C++\n",
        "JavaScript\n",
        "Swift\n",
        "Go\n",
        "MATLAB\n",
        "SAS"
      ],
      "metadata": {
        "id": "UYb2M9I9egqt"
      },
      "execution_count": null,
      "outputs": []
    },
    {
      "cell_type": "code",
      "source": [
        "# TensorFlow\n",
        "NumPy\n",
        "SciPy\n",
        "Pandas\n",
        "Matplotlib\n",
        "Keras\n",
        "SciKit-Learn\n",
        "PyTorch\n",
        "Scrapy\n",
        "BeautifulSoup\n",
        "LightGBM\n",
        "ELI5\n",
        "Theano\n",
        "NuPIC\n",
        "Ramp\n",
        "Pipenv\n",
        "Bob\n",
        "PyBrain\n",
        "Caffe2\n",
        "Chainer"
      ],
      "metadata": {
        "id": "yhXSIO9XfB11"
      },
      "execution_count": null,
      "outputs": []
    },
    {
      "cell_type": "code",
      "source": [
        "Statistical Analysis System (SAS)\n",
        "Apache Hadoop\n",
        "Tableau\n",
        "TensorFlow\n",
        "BigML\n",
        "Knime\n",
        "RapidMiner\n",
        "Excel\n",
        "Apache Flink\n",
        "PowerBI\n",
        "Google Analytics\n",
        "Python\n",
        "R (RStudio)\n",
        "DataRobot\n",
        "D3.js\n",
        "Microsoft HDInsight\n",
        "Jupyter\n",
        "Matplotlib\n",
        "MATLAB\n",
        "QlikView\n",
        "PyTorch\n",
        "Pandas\n",
        "Scikit Learn\n",
        "WEKA\n",
        "Minitab"
      ],
      "metadata": {
        "id": "T7n7SUdugNV4"
      },
      "execution_count": null,
      "outputs": []
    },
    {
      "cell_type": "code",
      "source": [
        "# This program adds two numbers\n",
        "\n",
        "num1 = 1.5\n",
        "num2 = 6.3\n",
        "\n",
        "# Add two numbers\n",
        "sum = num1 + num2\n",
        "\n",
        "# Display the sum\n",
        "print('The sum of {0} and {1} is {2}'.format(num1, num2, sum))"
      ],
      "metadata": {
        "id": "1ISgwRseUgtM"
      },
      "execution_count": null,
      "outputs": []
    },
    {
      "cell_type": "code",
      "execution_count": null,
      "metadata": {
        "id": "BEjMGL36Lchh"
      },
      "outputs": [],
      "source": [
        "Enter First Number: 100\n",
        "Enter Second Number: 5\n",
        "Enter which operation would you like to perform?\n",
        "Enter any of these char for specific operation +,-,*,/: +\n",
        "100 + 5 : 105"
      ]
    },
    {
      "cell_type": "code",
      "source": [
        "# Program published on https://beginnersbook.com\n",
        "\n",
        "# Python program to perform Addition Subtraction Multiplication\n",
        "# and Division of two numbers\n",
        "num1 = int(input(\"Enter First Number: 10\"))\n",
        "num2 = int(input(\"Enter Second Number:5 \"))\n",
        "print(\"Enter which operation would you like to perform?\")\n",
        "ch = input(\"Enter any of these char for specific operation +,-,*,/: \")\n",
        "result = 0\n",
        "if ch == '+':\n",
        "    result = num1 + num2\n",
        "elif ch == '*':\n",
        "    result = num1 * num2\n",
        "else:\n",
        "    print(\"Input character is not recognized!\")\n",
        "print(num1, ch , num2, \":\", result)"
      ],
      "metadata": {
        "id": "qJG3IGsFZLF7"
      },
      "execution_count": null,
      "outputs": []
    },
    {
      "cell_type": "code",
      "source": [
        "# Python Program to Convert Minute to Hour\n",
        "min = int(input(\"Enter Minutes :--> \"))\n",
        "print(\"Hour : Minute :--> \", int(min/60), \" : \", min % 60)"
      ],
      "metadata": {
        "id": "NmB_bmrfZQfx"
      },
      "execution_count": null,
      "outputs": []
    },
    {
      "cell_type": "code",
      "source": [
        "Create new Code and Markdown cells within Jupyter Notebook.\n",
        "Run Code and Markdown cells within Jupyter Notebook to execute Python code and render Markdown text.\n",
        "List useful shortcuts for common tasks in Jupyter Notebook."
      ],
      "metadata": {
        "id": "otVR1lW-dSre"
      },
      "execution_count": null,
      "outputs": []
    },
    {
      "cell_type": "code",
      "source": [
        "G KRISHNA KUMARI"
      ],
      "metadata": {
        "id": "zvBVJRIedXmW"
      },
      "execution_count": null,
      "outputs": []
    }
  ]
}